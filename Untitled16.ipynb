{
 "cells": [
  {
   "cell_type": "code",
   "execution_count": null,
   "metadata": {},
   "outputs": [
    {
     "name": "stdout",
     "output_type": "stream",
     "text": [
      "Successfully made pdf file\n"
     ]
    }
   ],
   "source": [
    "# importing necessary libraries\n",
    "import img2pdf\n",
    "from PIL import Image\n",
    "import os\n",
    "import cv2\n",
    "\n",
    "#CONVERT IMAGES FROM COLORED TO GRAYSCALE\n",
    "#grayscale simplifies the algorithm and reduces computational requirements\n",
    "image_cv2 = cv2.imread('C:/Users/ENGINEER/Desktop/supreme/download.jpg')\n",
    "gray_cv2 = cv2.cvtColor(image_cv2, cv2.COLOR_BGR2GRAY)\n",
    "\n",
    "cv2.imwrite('C:/Users/ENGINEER/Desktop/supreme/grayscale.jpg', gray_cv2)\n",
    "\n",
    "cv2.imshow('Original image',image_cv2)\n",
    "cv2.imshow('Gray image', gray_cv2)\n",
    "  \n",
    "# storing image path\n",
    "img_path = \"C:/Users/ENGINEER/Desktop/supreme/grayscale.jpg\"  \n",
    "# storing pdf path\n",
    "pdf_path = \"C:/Users/ENGINEER/Desktop/supreme/download.pdf\"\n",
    "  \n",
    "# opening image\n",
    "image = Image.open(img_path)\n",
    "  \n",
    "# converting into chunks using img2pdf\n",
    "pdf_bytes = img2pdf.convert(image.filename)\n",
    "  \n",
    "# opening or creating pdf file\n",
    "file = open(pdf_path, \"wb\")\n",
    "  \n",
    "# writing pdf files with chunks\n",
    "file.write(pdf_bytes)\n",
    "  \n",
    "# closing image file\n",
    "image.close()\n",
    "  \n",
    "# closing pdf file\n",
    "file.close()\n",
    "  \n",
    "# output\n",
    "print(\"Successfully made pdf file\")\n",
    "\n",
    "cv2.waitKey(0)\n",
    "cv2.destroyAllWindows()"
   ]
  }
 ],
 "metadata": {
  "kernelspec": {
   "display_name": "Python 3",
   "language": "python",
   "name": "python3"
  },
  "language_info": {
   "codemirror_mode": {
    "name": "ipython",
    "version": 3
   },
   "file_extension": ".py",
   "mimetype": "text/x-python",
   "name": "python",
   "nbconvert_exporter": "python",
   "pygments_lexer": "ipython3",
   "version": "3.8.5"
  }
 },
 "nbformat": 4,
 "nbformat_minor": 4
}
